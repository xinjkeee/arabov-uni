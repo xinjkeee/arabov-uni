{
 "cells": [
  {
   "cell_type": "markdown",
   "metadata": {},
   "source": [
    "Задача 11: Определите класс LeaveRequest с полями имя сотрудника, начальная дата и конечная дата. Реализуйте методы update_dates(new_start_date, new_end_date), который обновляет даты отпуска, и display_info(), который выводит информацию о заявке."
   ]
  },
  {
   "cell_type": "code",
   "execution_count": 67,
   "metadata": {},
   "outputs": [
    {
     "name": "stdout",
     "output_type": "stream",
     "text": [
      "current_date: 2025-03-26 10:31:16.108279, end_date: 2025-03-26 10:31:26.108279\n",
      "current_date: 2025-03-26 10:31:16.108279, end_date: 2025-03-26 10:31:26.108279\n"
     ]
    }
   ],
   "source": [
    "import datetime\n",
    "\n",
    "class LeaveRequest:\n",
    "    def __init__(self, name: str, start_date: datetime, end_date: datetime) -> None:\n",
    "        self.__name = name\n",
    "        self.start_time = start_date\n",
    "        self.end_time = end_date\n",
    "    \n",
    "    def update_dates(self, new_start_time: datetime, new_end_date: datetime) -> None:\n",
    "        self.start_time = new_start_time\n",
    "        self.end_time = new_end_date\n",
    "    def show_dates(self) -> None:\n",
    "        print(f\"current_date: {self.start_time}, end_date: {self.end_time}\")\n",
    "\n",
    "current_start_time = datetime.datetime.now()\n",
    "current_end_time = datetime.datetime.now() + datetime.timedelta(seconds=10)\n",
    "person = LeaveRequest(\"Kirill\", current_start_time, current_end_time)\n",
    "person.show_dates()\n",
    "new_start_time = datetime.datetime.now()\n",
    "new_end_time = datetime.datetime.now() + datetime.timedelta(seconds=10)\n",
    "person.update_dates(new_start_time, new_end_time)\n",
    "person.show_dates()"
   ]
  },
  {
   "cell_type": "markdown",
   "metadata": {},
   "source": [
    "Определите класс LeaveRequest, который наследуется от класса Event. Класс LeaveRequest должен добавлять поля начальная дата и конечная дата, а также методы для обновления дат отпуска."
   ]
  },
  {
   "cell_type": "code",
   "execution_count": 68,
   "metadata": {},
   "outputs": [
    {
     "name": "stdout",
     "output_type": "stream",
     "text": [
      "current_date: 2025-03-26 10:31:16.131654, end_date: 2025-04-07 00:17:56.131654\n",
      "current_date: 2025-04-08 04:04:36.131654, end_date: 2025-03-26 10:31:26.108279\n",
      "10:31:16.135580\n"
     ]
    }
   ],
   "source": [
    "class Event:\n",
    "    def __init__(self, name: str) -> None:\n",
    "        self.__name = name\n",
    "\n",
    "class LeaveRequest(Event):\n",
    "    def __init__(self, name: str, start_date: datetime, end_date: datetime) -> None:\n",
    "        super().__init__(name)\n",
    "        self.start_time = start_date\n",
    "        self.end_time = end_date\n",
    "    def update_dates(self, new_start_date: datetime, new_end_date: datetime) -> None:\n",
    "        self.start_time = new_start_date\n",
    "        self.end_time = new_end_date\n",
    "    def show_dates(self) -> None:\n",
    "        print(f\"current_date: {self.start_time}, end_date: {self.end_time}\")\n",
    "\n",
    "\n",
    "current_start_date = datetime.datetime.now()\n",
    "current_end_date = datetime.datetime.now() + datetime.timedelta(seconds=1000000)\n",
    "person = LeaveRequest(\"Danil\", current_start_date, current_end_date)\n",
    "person.show_dates()\n",
    "new_start_date = datetime.datetime.now() + datetime.timedelta(seconds=1100000)\n",
    "new_end_date = datetime.datetime.now() +  datetime.timedelta(seconds=1200000)\n",
    "person.update_dates(new_start_date, new_end_time)\n",
    "person.show_dates()\n",
    "\n",
    "\n",
    "print(datetime.datetime.now().time())"
   ]
  },
  {
   "cell_type": "markdown",
   "metadata": {},
   "source": [
    "Создать класс LeaveRequest, у которого поля x, startDate, endDate будут приватными. Предоставить методы для безопасного изменения дат отпуска и доступа к имени сотрудника."
   ]
  },
  {
   "cell_type": "code",
   "execution_count": 69,
   "metadata": {},
   "outputs": [],
   "source": [
    "class LeaveRequest:\n",
    "    def __init__(self, employeeName: str, startDate: datetime, endDate: datetime) -> None:\n",
    "        self.__employeeName = employeeName\n",
    "        self.__startDate= startDate\n",
    "        self.__endDate= endDate\n",
    "    \n",
    "    @property\n",
    "    def employeeName(self):\n",
    "        return self.__employeeName\n",
    "    \n",
    "    @employeeName.setter\n",
    "    def employeeName(self, name: str): \n",
    "        if type(name) != str:\n",
    "            self.__employeeName = name\n",
    "        else:\n",
    "            pass\n",
    "        \n",
    "    @property\n",
    "    def startDate(self):\n",
    "        return self.__startDate\n",
    "\n",
    "    @startDate.setter\n",
    "    def startDate(self, date: datetime):\n",
    "        self.__endDate = date\n",
    "    \n",
    "    @property\n",
    "    def endDate(self):\n",
    "        return self.__endDate\n",
    "\n",
    "    @endDate.setter\n",
    "    def endDate(self, date: datetime):\n",
    "        self.__endDate = date\n",
    "    "
   ]
  },
  {
   "cell_type": "markdown",
   "metadata": {},
   "source": [
    "Лес и дерево.  Создайте класс `Лес`, содержащий множество деревьев. В классе `Лес` реализуйте метод для добавления нового дерева с указанием его вида. Класс `Дерево` должен включать поле `вид`. Деревья не могут существовать отдельно от леса."
   ]
  },
  {
   "cell_type": "code",
   "execution_count": 70,
   "metadata": {},
   "outputs": [
    {
     "name": "stdout",
     "output_type": "stream",
     "text": [
      "Ива\n",
      "Ель\n"
     ]
    }
   ],
   "source": [
    "class Forest:\n",
    "    def __init__(self) -> None:\n",
    "        self.trees = []\n",
    "    \n",
    "    def add_tree(self, tree_type: str) -> None:\n",
    "        tree = self.Tree(tree_type)\n",
    "        self.trees.append(tree)\n",
    "\n",
    "    def print_trees(self) -> None:\n",
    "        for tree in self.trees:\n",
    "            print(tree.tree_type)\n",
    "\n",
    "    class Tree:\n",
    "        def __init__(self, tree_type: str) -> None:\n",
    "            self.tree_type = tree_type\n",
    "\n",
    "forest = Forest()\n",
    "forest.add_tree(\"Ива\")\n",
    "forest.add_tree(\"Ель\")\n",
    "forest.print_trees()"
   ]
  },
  {
   "cell_type": "markdown",
   "metadata": {},
   "source": [
    "Фестиваль и участник. Реализуйте класс `Фестиваль`, включающий список участников. У класса `Участник` есть поля `имя` и `вид искусства`. Участники могут существовать независимо от фестиваля."
   ]
  },
  {
   "cell_type": "code",
   "execution_count": 71,
   "metadata": {},
   "outputs": [
    {
     "name": "stdout",
     "output_type": "stream",
     "text": [
      "name: Kirill, art: origami\n",
      "name: Danil, art: music\n"
     ]
    }
   ],
   "source": [
    "class Festival:\n",
    "    def __init__(self):\n",
    "        self.participants = []\n",
    "\n",
    "    def add_participant(self, participant):\n",
    "        self.participants.append(participant)\n",
    "\n",
    "    def print_participants(self) -> None:\n",
    "        for participant in self.participants:\n",
    "            participant.print_participant()\n",
    "    \n",
    "    \n",
    "class Participant:\n",
    "    def __init__(self, name: str, art_type: str):\n",
    "        self.name = name\n",
    "        self.art_type = art_type\n",
    "    \n",
    "    def print_participant(self) -> None:\n",
    "        print(f\"name: {self.name}, art: {self.art_type}\")\n",
    "    \n",
    "participant1 = Participant(\"Kirill\", \"origami\")\n",
    "participant2 = Participant(\"Danil\", 'music')\n",
    "\n",
    "festival_participants = Festival()\n",
    "festival_participants.add_participant(participant1)\n",
    "festival_participants.add_participant(participant2)\n",
    "festival_participants.print_participants()\n"
   ]
  },
  {
   "cell_type": "markdown",
   "metadata": {},
   "source": [
    "Создать класс Circle, наследующий абстрактный класс 2DShape, с полем radius. Реализовать методы для вычисления периметра и площади круга."
   ]
  },
  {
   "cell_type": "code",
   "execution_count": 72,
   "metadata": {},
   "outputs": [
    {
     "name": "stdout",
     "output_type": "stream",
     "text": [
      "12.566370614359172\n",
      "12.566370614359172\n"
     ]
    }
   ],
   "source": [
    "from abc import ABC, abstractmethod\n",
    "from math import pi\n",
    "\n",
    "class D2Shape(ABC):\n",
    "    @abstractmethod\n",
    "    def get_perimetr(self) -> float:\n",
    "        pass\n",
    "    \n",
    "    @abstractmethod\n",
    "    def get_square(self) -> float:\n",
    "        pass\n",
    "\n",
    "class Circle(D2Shape):\n",
    "    def __init__(self, radius: float) -> None:\n",
    "        self.radius = radius\n",
    "\n",
    "    def get_perimetr(self):\n",
    "        return 2 * pi * self.radius\n",
    "\n",
    "    def get_square(self):\n",
    "        return pi * self.radius * self.radius\n",
    "\n",
    "circle = Circle(2)\n",
    "print(circle.get_perimetr())\n",
    "print(circle.get_square())\n"
   ]
  },
  {
   "cell_type": "markdown",
   "metadata": {},
   "source": [
    "Создать интерфейс ILeaveRequest, который содержит методы updateDates(LocalDate start, LocalDate end) и getRequestInfo(). Создать класс LeaveRequest, реализующий этот интерфейс. Класс должен содержать поля employeeName, startDate и endDate."
   ]
  },
  {
   "cell_type": "code",
   "execution_count": 73,
   "metadata": {},
   "outputs": [
    {
     "name": "stdout",
     "output_type": "stream",
     "text": [
      "name: Alex, start time: 2025-03-26 10:31:16.230430, end time: 2025-03-26 10:47:56.230430\n",
      "name: Alex, start time: 2025-03-26 11:54:36.230430, end time: 2025-03-26 13:17:56.230430\n"
     ]
    }
   ],
   "source": [
    "\n",
    "\n",
    "class ILeaveRequest(ABC):\n",
    "    @abstractmethod\n",
    "    def updateDates(self, LocalDate_start: datetime, LocalDate_end: datetime) -> None:\n",
    "        pass\n",
    "    def getRequestionInfo() -> None:\n",
    "        pass\n",
    "class LeaveRequest(ILeaveRequest):\n",
    "    def __init__(self, employeeName: str, startDate: datetime, endDate: datetime) -> None:\n",
    "        self.employeeName = employeeName\n",
    "        self.startDate = startDate\n",
    "        self.endDate = endDate\n",
    "    \n",
    "    def updateDates(self, LocalDate_start, LocalDate_end):\n",
    "        self.startDate = LocalDate_start\n",
    "        self.endDate = LocalDate_end\n",
    "    \n",
    "    def getRequestionInfo(self):\n",
    "        print(f\"name: {self.employeeName}, start time: {self.startDate}, end time: {self.endDate}\")\n",
    "\n",
    "st = datetime.datetime.now()\n",
    "end = datetime.datetime.now() + datetime.timedelta(seconds=1000)\n",
    "request = LeaveRequest(\"Alex\", st, end)\n",
    "request.getRequestionInfo()\n",
    "st = datetime.datetime.now() + datetime.timedelta(seconds=5000)\n",
    "end = datetime.datetime.now() + datetime.timedelta(seconds=10000)\n",
    "request.updateDates(st, end)\n",
    "\n",
    "request.getRequestionInfo()"
   ]
  },
  {
   "cell_type": "markdown",
   "metadata": {},
   "source": [
    "Определите метод approve() в классе LeaveRequest, который будет утверждать заявку на отпуск. Создайте подклассы PaidLeaveRequest и UnpaidLeaveRequest, которые будут переопределять этот метод в зависимости от типа отпуска."
   ]
  },
  {
   "cell_type": "code",
   "execution_count": 74,
   "metadata": {},
   "outputs": [
    {
     "name": "stdout",
     "output_type": "stream",
     "text": [
      "paid request approved!\n",
      "unpaid request approved!\n"
     ]
    }
   ],
   "source": [
    "class LeaveRequest(ABC):\n",
    "    @abstractmethod\n",
    "    def approve():\n",
    "        pass\n",
    "\n",
    "class PaidLeaveRequest(LeaveRequest):\n",
    "    def __init__(self) -> None:\n",
    "        self.request_type = \"paid request\"\n",
    "    \n",
    "    def approve(self) -> None:\n",
    "        print(f\"{self.request_type} approved!\")\n",
    "    \n",
    "class UnpaidLeaveRequest(LeaveRequest):\n",
    "    def __init__(self) -> None:\n",
    "        self.request_type = \"unpaid request\"\n",
    "        \n",
    "    def approve(self) -> None:\n",
    "        print(f\"{self.request_type} approved!\")\n",
    "\n",
    "\n",
    "paid_request = PaidLeaveRequest()\n",
    "paid_request.approve()\n",
    "\n",
    "unpaid_request = UnpaidLeaveRequest()\n",
    "unpaid_request.approve()\n"
   ]
  }
 ],
 "metadata": {
  "kernelspec": {
   "display_name": "base",
   "language": "python",
   "name": "python3"
  },
  "language_info": {
   "codemirror_mode": {
    "name": "ipython",
    "version": 3
   },
   "file_extension": ".py",
   "mimetype": "text/x-python",
   "name": "python",
   "nbconvert_exporter": "python",
   "pygments_lexer": "ipython3",
   "version": "3.12.3"
  }
 },
 "nbformat": 4,
 "nbformat_minor": 2
}
